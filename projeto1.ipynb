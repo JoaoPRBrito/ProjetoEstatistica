{
 "cells": [
  {
   "cell_type": "markdown",
   "metadata": {},
   "source": [
    "# Projeto 1° Bimestre\n",
    "### Car Evaluation\n",
    "- Desenvolvedores: João Brito e Leonardo Arero\n",
    "\n",
    "-  Github: https://github.com/JoaoPRBrito/ProjetoEstatistica\n",
    "\n",
    "-  Repositório de dados por UCI Machine Learning Repository: https://archive.ics.uci.edu/ml/datasets/Car+Evaluation\n",
    "\n",
    "\n"
   ]
  },
  {
   "cell_type": "code",
   "execution_count": 1,
   "metadata": {},
   "outputs": [],
   "source": [
    "# Importação do arquivo .csv contendo o Dataset\n",
    "import csv\n",
    "with open(\"car.csv\", \"r\") as arquivo:\n",
    "    arquivo_csv = csv.reader(arquivo, delimiter=\",\")"
   ]
  },
  {
   "cell_type": "code",
   "execution_count": 2,
   "metadata": {},
   "outputs": [
    {
     "name": "stdout",
     "output_type": "stream",
     "text": [
      "      Price  Maint  Doors Persons Lug_boot Safety  Value  Weight   Cost\n",
      "0     vhigh  vhigh      2       2    small    low  unacc       4  52507\n",
      "1     vhigh  vhigh      2       2    small    med  unacc       3  30040\n",
      "2     vhigh  vhigh      2       2    small   high  unacc       2  24715\n",
      "3     vhigh  vhigh      2       2      med    low  unacc       4  45763\n",
      "4     vhigh  vhigh      2       2      med    med  unacc       2  36208\n",
      "...     ...    ...    ...     ...      ...    ...    ...     ...    ...\n",
      "1723    low    low  5more    more      med    med   good       2  40197\n",
      "1724    low    low  5more    more      med   high  vgood       1  28715\n",
      "1725    low    low  5more    more      big    low  unacc       4  50743\n",
      "1726    low    low  5more    more      big    med   good       3  64562\n",
      "1727    low    low  5more    more      big   high  vgood       4  26674\n",
      "\n",
      "[1728 rows x 9 columns]\n"
     ]
    }
   ],
   "source": [
    "#Importação do pandas para manipular o dp, criação e formatação da tabela\n",
    "import pandas as pd\n",
    "\n",
    "tabela = pd.read_csv(\"car.csv\", sep=\",\")\n",
    "df = pd.DataFrame(tabela)\n",
    "print(df)\n"
   ]
  },
  {
   "cell_type": "markdown",
   "metadata": {},
   "source": [
    "## Analizando valores qualitativos"
   ]
  },
  {
   "cell_type": "code",
   "execution_count": 3,
   "metadata": {},
   "outputs": [
    {
     "name": "stdout",
     "output_type": "stream",
     "text": [
      "Total: 1728 \n",
      "Price vhigh: 432 \n",
      "Price high: 432 \n",
      "Price medium: 432 \n",
      "Price low: 432\n"
     ]
    }
   ],
   "source": [
    "#Analizando a coluna Price (Preço)\n",
    "\n",
    "Price_vh = df.query('Price == \"vhigh\"').shape[0]\n",
    "Price_hg = df.query('Price == \"high\"').shape[0]\n",
    "Price_md = df.query('Price == \"med\"').shape[0]\n",
    "Price_lw = df.query('Price == \"low\"').shape[0]\n",
    "print(\"Total:\",df['Price'].shape[0],\"\\nPrice vhigh:\", Price_vh,\"\\nPrice high:\", Price_hg, \"\\nPrice medium:\", Price_md, \"\\nPrice low:\", Price_lw)"
   ]
  },
  {
   "cell_type": "code",
   "execution_count": 4,
   "metadata": {},
   "outputs": [
    {
     "name": "stdout",
     "output_type": "stream",
     "text": [
      "Total: 1728 \n",
      "Maint vhigh: 432 \n",
      "Maint high: 432 \n",
      "Maint medium: 432 \n",
      "Maint low: 432\n"
     ]
    }
   ],
   "source": [
    "#Analizando a coluna Maint (Manutenção)\n",
    "Maint_vh = df.query('Maint == \"vhigh\"').shape[0]\n",
    "Maint_hg = df.query('Maint == \"high\"').shape[0]\n",
    "Maint_md = df.query('Maint == \"med\"').shape[0]\n",
    "Maint_lw = df.query('Maint == \"low\"').shape[0]\n",
    "print(\"Total:\",df['Price'].shape[0],\"\\nMaint vhigh:\", Maint_vh,\"\\nMaint high:\", Maint_hg, \"\\nMaint medium:\", Maint_md, \"\\nMaint low:\", Maint_lw)"
   ]
  },
  {
   "cell_type": "code",
   "execution_count": 5,
   "metadata": {},
   "outputs": [
    {
     "name": "stdout",
     "output_type": "stream",
     "text": [
      "Total: 1728 \n",
      "Duas portas: 432 \n",
      "Tres portas: 432 \n",
      "Quatro Portas: 432 \n",
      "5 ou mais: 432\n"
     ]
    }
   ],
   "source": [
    "#Analizando a coluna Doors (Portas)\n",
    "Duas_portas = df.query('Doors == \"2\"').shape[0]\n",
    "Tres_portas = df.query('Doors == \"3\"').shape[0]\n",
    "Quatro_portas = df.query('Doors == \"4\"').shape[0]\n",
    "Mais = df.query('Doors == \"5more\"').shape[0]\n",
    "print(\"Total:\",df['Doors'].shape[0],\"\\nDuas portas:\", Duas_portas,\"\\nTres portas:\", Tres_portas, \"\\nQuatro Portas:\", Quatro_portas, \"\\n5 ou mais:\",Mais)"
   ]
  },
  {
   "cell_type": "code",
   "execution_count": 6,
   "metadata": {},
   "outputs": [
    {
     "name": "stdout",
     "output_type": "stream",
     "text": [
      "Total: 1728 \n",
      "Duas pessoas: 576 \n",
      "Quatro pessoas: 576 \n",
      "Mais: 576\n"
     ]
    }
   ],
   "source": [
    "#Analizando a coluna Persons (Pessoas)\n",
    "Pessoa2 = df.query('Persons == \"2\"').shape[0]\n",
    "Pessoa4 = df.query('Persons == \"4\"').shape[0]\n",
    "Mais_pessoas = df.query('Persons == \"more\"').shape[0]\n",
    "print(\"Total:\",df['Persons'].shape[0],\"\\nDuas pessoas:\", Pessoa2,\"\\nQuatro pessoas:\", Pessoa4, \"\\nMais:\", Mais_pessoas)\n",
    "\n"
   ]
  },
  {
   "cell_type": "code",
   "execution_count": 7,
   "metadata": {},
   "outputs": [
    {
     "name": "stdout",
     "output_type": "stream",
     "text": [
      "Total: 1728 \n",
      "Pequeno: 576 \n",
      "Medio: 576 \n",
      "Grande: 576\n"
     ]
    }
   ],
   "source": [
    "#Analizando a coluna Lug_boot (Bagajeiro)\n",
    "Bag_peq = df.query('Lug_boot == \"small\"').shape[0]\n",
    "Bag_med = df.query('Lug_boot == \"med\"').shape[0]\n",
    "Bag_grd = df.query('Lug_boot == \"big\"').shape[0]\n",
    "print(\"Total:\",df['Lug_boot'].shape[0],\"\\nPequeno:\", Bag_peq,\"\\nMedio:\", Bag_med, \"\\nGrande:\", Bag_grd)\n"
   ]
  },
  {
   "cell_type": "code",
   "execution_count": 8,
   "metadata": {},
   "outputs": [
    {
     "name": "stdout",
     "output_type": "stream",
     "text": [
      "Total: 1728 \n",
      "Baixa seguranca: 576 \n",
      "Seguranca Media: 576 \n",
      "Alta seguranca: 576\n"
     ]
    }
   ],
   "source": [
    "#Analizando a coluna Safety (Segurança)\n",
    "Seg_peq = df.query('Safety == \"low\"').shape[0]\n",
    "Seg_med = df.query('Safety == \"med\"').shape[0]\n",
    "Seg_grd = df.query('Safety == \"high\"').shape[0]\n",
    "print(\"Total:\",df['Safety'].shape[0],\"\\nBaixa seguranca:\", Seg_peq,\"\\nSeguranca Media:\", Seg_med, \"\\nAlta seguranca:\", Seg_grd)"
   ]
  },
  {
   "cell_type": "code",
   "execution_count": 9,
   "metadata": {},
   "outputs": [
    {
     "name": "stdout",
     "output_type": "stream",
     "text": [
      "Total: 1728 \n",
      "Inacessivel: 1210 \n",
      "Acessivel: 384 \n",
      "Bom: 69 \n",
      "Muito bom: 65\n"
     ]
    }
   ],
   "source": [
    "#Analizando a coluna Value (Avaliação)\n",
    "inacessivel = df.query('Value == \"unacc\"').shape[0]\n",
    "acessivel = df.query('Value == \"acc\"').shape[0]\n",
    "bom = df.query('Value == \"good\"').shape[0]\n",
    "muito_bom = df.query('Value == \"vgood\"').shape[0]\n",
    "print(\"Total:\",df['Value'].shape[0],\"\\nInacessivel:\",inacessivel ,\"\\nAcessivel:\", acessivel, \"\\nBom:\", bom, \"\\nMuito bom:\",muito_bom)\n"
   ]
  },
  {
   "cell_type": "code",
   "execution_count": 10,
   "metadata": {},
   "outputs": [],
   "source": [
    "#Importação das bibliotecas necessarias para realizar plotagem de graficos\n",
    "from statistics import mean\n",
    "import matplotlib.pyplot as plt\n",
    "import seaborn as sns"
   ]
  },
  {
   "cell_type": "code",
   "execution_count": 11,
   "metadata": {},
   "outputs": [
    {
     "data": {
      "image/png": "[encoded data removed]",
      "text/plain": [
       "<Figure size 640x480 with 1 Axes>"
      ]
     },
     "metadata": {},
     "output_type": "display_data"
    }
   ],
   "source": [
    "#Histograma de Price (Preço)\n",
    "plt.hist(df['Price'],4, rwidth=0.1 )\n",
    "plt.show()"
   ]
  },
  {
   "cell_type": "code",
   "execution_count": 12,
   "metadata": {},
   "outputs": [
    {
     "data": {
      "image/png": "[encoded data removed]",
      "text/plain": [
       "<Figure size 640x480 with 1 Axes>"
      ]
     },
     "metadata": {},
     "output_type": "display_data"
    }
   ],
   "source": [
    "#Histograma de Maint (Manutenção)\n",
    "plt.hist(df['Maint'],4, rwidth=0.1 )\n",
    "plt.show()"
   ]
  },
  {
   "cell_type": "code",
   "execution_count": 13,
   "metadata": {},
   "outputs": [
    {
     "data": {
      "image/png": "[encoded data removed]",
      "text/plain": [
       "<Figure size 640x480 with 1 Axes>"
      ]
     },
     "metadata": {},
     "output_type": "display_data"
    }
   ],
   "source": [
    "#Histograma de Maint (Manutenção)\n",
    "plt.hist(df['Maint'],4, rwidth=0.1 )\n",
    "plt.show()"
   ]
  },
  {
   "cell_type": "code",
   "execution_count": 14,
   "metadata": {},
   "outputs": [
    {
     "data": {
      "image/png": "[encoded data removed]",
      "text/plain": [
       "<Figure size 640x480 with 1 Axes>"
      ]
     },
     "metadata": {},
     "output_type": "display_data"
    }
   ],
   "source": [
    "#Histograma de Persons (Pessoas)\n",
    "plt.hist(df['Persons'],4, rwidth=0.1 )\n",
    "plt.show()"
   ]
  },
  {
   "cell_type": "code",
   "execution_count": 15,
   "metadata": {},
   "outputs": [
    {
     "data": {
      "image/png": "[encoded data removed]",
      "text/plain": [
       "<Figure size 640x480 with 1 Axes>"
      ]
     },
     "metadata": {},
     "output_type": "display_data"
    }
   ],
   "source": [
    "#Histograma de Lug_boot (Bagageiro)\n",
    "plt.hist(df['Lug_boot'],4, rwidth=0.1 )\n",
    "plt.show()"
   ]
  },
  {
   "cell_type": "code",
   "execution_count": 16,
   "metadata": {},
   "outputs": [
    {
     "data": {
      "image/png": "[encoded data removed]",
      "text/plain": [
       "<Figure size 640x480 with 1 Axes>"
      ]
     },
     "metadata": {},
     "output_type": "display_data"
    }
   ],
   "source": [
    "#Histograma de Safety (Segurança)\n",
    "plt.hist(df['Safety'],4, rwidth=0.1 )\n",
    "plt.show()"
   ]
  },
  {
   "cell_type": "code",
   "execution_count": 17,
   "metadata": {},
   "outputs": [
    {
     "data": {
      "image/png": "[encoded data removed]",
      "text/plain": [
       "<Figure size 640x480 with 1 Axes>"
      ]
     },
     "metadata": {},
     "output_type": "display_data"
    }
   ],
   "source": [
    "#Histograma de Value (Avaliação)\n",
    "plt.hist(df['Value'],4, rwidth=0.1 )\n",
    "plt.show()"
   ]
  },
  {
   "cell_type": "markdown",
   "metadata": {},
   "source": [
    "## Valores Quantitativos"
   ]
  },
  {
   "cell_type": "code",
   "execution_count": 18,
   "metadata": {},
   "outputs": [
    {
     "data": {
      "text/plain": [
       "0    4\n",
       "1    3\n",
       "2    2\n",
       "3    4\n",
       "4    2\n",
       "Name: Weight, dtype: int64"
      ]
     },
     "execution_count": 18,
     "metadata": {},
     "output_type": "execute_result"
    }
   ],
   "source": [
    "#Setando a amostra de valores de Weights\n",
    "newDataFrame = df.query(\"Weight >= 2 and Weight <= 4\")\n",
    "pesos = newDataFrame.Weight\n",
    "pesos.head()"
   ]
  },
  {
   "cell_type": "code",
   "execution_count": 19,
   "metadata": {},
   "outputs": [
    {
     "name": "stdout",
     "output_type": "stream",
     "text": [
      "Média dos Pesos: 3.017871\n",
      "Mediana dos Pesos: 3.0\n",
      "\n",
      "Maior peso: 4\n",
      "Menor peso: 2\n",
      "\n",
      "Variância: 0.689416\n",
      "Desvio-padrão: 0.830311\n"
     ]
    }
   ],
   "source": [
    "# Media, Mediana, Variância e Desvio-padrão  dos pesos dos carros\n",
    "mediaPesos = pesos.mean()\n",
    "medianaPesos = pesos.median()\n",
    "VarianciaPesos = pesos.var()\n",
    "DesvPesos = pesos.std()\n",
    "\n",
    "print(f\"Média dos Pesos: {mediaPesos:4f}\")\n",
    "print(f\"Mediana dos Pesos: {medianaPesos}\\n\")\n",
    "print(f\"Maior peso: {pesos.max()}\")\n",
    "print(f\"Menor peso: {pesos.min()}\\n\")\n",
    "\n",
    "print(f\"Variância: {VarianciaPesos:4f}\")\n",
    "print(f\"Desvio-padrão: {DesvPesos:4f}\")"
   ]
  },
  {
   "cell_type": "code",
   "execution_count": 20,
   "metadata": {},
   "outputs": [
    {
     "data": {
      "image/png": "[encoded data removed]",
      "text/plain": [
       "<Figure size 640x480 with 1 Axes>"
      ]
     },
     "metadata": {},
     "output_type": "display_data"
    }
   ],
   "source": [
    "#Plotagem do Boxplot\n",
    "sns.set_theme(style=\"whitegrid\")\n",
    "sns.boxplot(x=pesos);"
   ]
  },
  {
   "cell_type": "code",
   "execution_count": 21,
   "metadata": {},
   "outputs": [
    {
     "data": {
      "text/plain": [
       "0    52507\n",
       "1    30040\n",
       "2    24715\n",
       "3    45763\n",
       "4    36208\n",
       "Name: Cost, dtype: int64"
      ]
     },
     "execution_count": 21,
     "metadata": {},
     "output_type": "execute_result"
    }
   ],
   "source": [
    "#Setando a amostra de valores de Cost\n",
    "newDataFrame = df.query(\"Cost >= 20000 and Cost <= 80000\")\n",
    "Valores = newDataFrame.Cost\n",
    "Valores.head()"
   ]
  },
  {
   "cell_type": "code",
   "execution_count": 22,
   "metadata": {},
   "outputs": [
    {
     "name": "stdout",
     "output_type": "stream",
     "text": [
      "Média dos Pesos: 44879.196759\n",
      "Mediana dos Pesos: 45317.0\n",
      "\n",
      "Maior valor: 69981\n",
      "Menor valor: 20007\n",
      "\n",
      "Variância: 206404971.942734\n",
      "Desvio-padrão: 14366.801034\n"
     ]
    }
   ],
   "source": [
    "# Media, Mediana, Variância e Desvio-padrão de Cost\n",
    "mediaVal = Valores.mean()\n",
    "medianaVal = Valores.median()\n",
    "VarianciaVal = Valores.var()\n",
    "DesvVal = Valores.std()\n",
    "\n",
    "print(f\"Média dos Pesos: {mediaVal:4f}\")\n",
    "print(f\"Mediana dos Pesos: {medianaVal}\\n\")\n",
    "print(f\"Maior valor: {Valores.max()}\")\n",
    "print(f\"Menor valor: {Valores.min()}\\n\")\n",
    "\n",
    "print(f\"Variância: {VarianciaVal:4f}\")\n",
    "print(f\"Desvio-padrão: {DesvVal:4f}\")"
   ]
  },
  {
   "cell_type": "code",
   "execution_count": 23,
   "metadata": {},
   "outputs": [
    {
     "data": {
      "image/png": "[encoded data removed]",
      "text/plain": [
       "<Figure size 640x480 with 1 Axes>"
      ]
     },
     "metadata": {},
     "output_type": "display_data"
    }
   ],
   "source": [
    "#Plotagem do Boxplot\n",
    "sns.set_theme(style=\"whitegrid\")\n",
    "sns.boxplot(x=Valores);"
   ]
  }
 ],
 "metadata": {
  "kernelspec": {
   "display_name": "Python 3.10.6 64-bit",
   "language": "python",
   "name": "python3"
  },
  "language_info": {
   "codemirror_mode": {
    "name": "ipython",
    "version": 3
   },
   "file_extension": ".py",
   "mimetype": "text/x-python",
   "name": "python",
   "nbconvert_exporter": "python",
   "pygments_lexer": "ipython3",
   "version": "3.10.6"
  },
  "orig_nbformat": 4,
  "vscode": {
   "interpreter": {
    "hash": "bac4e17d0ad652fe572f7303b15392f2c4cb3e88fc6e44da7a2e494303c18aa2"
   }
  }
 },
 "nbformat": 4,
 "nbformat_minor": 2
}
